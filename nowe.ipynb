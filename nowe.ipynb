{
 "cells": [
  {
   "cell_type": "markdown",
   "id": "1a2e52b5",
   "metadata": {},
   "source": [
    "# Portfolio\n",
    "\n"
   ]
  },
  {
   "cell_type": "code",
   "execution_count": 2,
   "id": "97a03587",
   "metadata": {},
   "outputs": [
    {
     "name": "stdout",
     "output_type": "stream",
     "text": [
      "Witam w moim porfolio\n"
     ]
    }
   ],
   "source": [
    "print('Witam w moim porfolio')"
   ]
  },
  {
   "cell_type": "code",
   "execution_count": null,
   "id": "ef806d12",
   "metadata": {},
   "outputs": [],
   "source": []
  }
 ],
 "metadata": {
  "kernelspec": {
   "display_name": "Python 3",
   "language": "python",
   "name": "python3"
  },
  "language_info": {
   "codemirror_mode": {
    "name": "ipython",
    "version": 3
   },
   "file_extension": ".py",
   "mimetype": "text/x-python",
   "name": "python",
   "nbconvert_exporter": "python",
   "pygments_lexer": "ipython3",
   "version": "3.12.0"
  }
 },
 "nbformat": 4,
 "nbformat_minor": 5
}
